{
 "cells": [
  {
   "cell_type": "markdown",
   "metadata": {},
   "source": [
    "# Week 7 handin - by Benjamin S (cph-bs190)"
   ]
  },
  {
   "cell_type": "markdown",
   "metadata": {},
   "source": [
    "# Assignment chosen: \n",
    "\n",
    "## Python Exercise 07\n",
    "\n",
    "### Exercise 1\n",
    "1. Go to this website: https://www.komplett.dk/category/21640/gaming/spiludstyr/gaming-headset?nlevel=10431%C2%A721603%C2%A721640&sort=OrderedTimes_bf%3ADESCENDING&hits=192\n",
    "2. Use BeautifulSoup, to select the name, price, amount of stars (review related) and amount in stock.\n",
    "3. Save the data, to be used for later.\n",
    "\n",
    "### Exercise 2\n",
    "1. Using Regular Expressions and the data from exercise 1, find all headset which is in stock.\n",
    "2. Create a list of tuples with the data from subtask 1.\n",
    "\n",
    "### Exercise 3\n",
    "1. Use the data from Exercise 2, to make a sorted bar chart of the headsets, where x-axis is names, and y-axis is price.\n",
    "\n",
    "### Made by NewBiz (Class: D):\n",
    "- Nicklas Nielsen (cph-nn161@cphbusiness.dk)\n",
    "- Mathias Haugaard (cph-mn556@cphbusiness.dk)\n",
    "- Nikolaj Larsen (cph-nl174@cphbusiness.dk)"
   ]
  },
  {
   "cell_type": "markdown",
   "metadata": {},
   "source": [
    "## Status\n",
    "TBD"
   ]
  },
  {
   "cell_type": "markdown",
   "metadata": {},
   "source": [
    "# Exercise 1\n",
    "### 1"
   ]
  },
  {
   "cell_type": "code",
   "execution_count": null,
   "metadata": {},
   "outputs": [],
   "source": []
  }
 ],
 "metadata": {
  "kernelspec": {
   "display_name": "Python 3",
   "language": "python",
   "name": "python3"
  },
  "language_info": {
   "codemirror_mode": {
    "name": "ipython",
    "version": 3
   },
   "file_extension": ".py",
   "mimetype": "text/x-python",
   "name": "python",
   "nbconvert_exporter": "python",
   "pygments_lexer": "ipython3",
   "version": "3.7.6"
  }
 },
 "nbformat": 4,
 "nbformat_minor": 4
}
