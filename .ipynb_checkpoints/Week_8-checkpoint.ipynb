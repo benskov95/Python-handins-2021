{
 "cells": [
  {
   "cell_type": "markdown",
   "metadata": {},
   "source": [
    "# Week 8 handin - by Benjamin S (cph-bs190)"
   ]
  },
  {
   "cell_type": "markdown",
   "metadata": {},
   "source": [
    "# Assignment chosen: \n",
    "\n",
    "## Python_exercise_08\n",
    "\n",
    "\n",
    "### Exercise 1\n",
    "  1) Lav en RESTful  webservice med FLASK som har et GET og POST endpoint.\n",
    "\n",
    "### Exercise 2\n",
    "1) Få fat i data fra \"https://api.chucknorris.io/jokes/random\" med request.get()  \n",
    "2) Filtrer dataen så resultatet er en string med \"value\" og brug POST endpointet til at persistere til DB.\n",
    "\n",
    "### Exercise 3\n",
    "1) Brug GET endpoint til at hente data op fra DB. \n",
    "2) Send et response med et JSON objekt med {text: \"Random Joke\", value: \"resultat fra punkt 1.\"}. \n",
    "\n",
    "\n",
    "\n",
    "#### By Group 1, E:\n",
    "\n",
    "- Benjamin Choleva ([cph-bc105@cphbusiness.dk](mailto:cph-bc105@cphbusiness.dk))\n",
    "- Nicolas Malte Johan Allesøe ([cph-na157@cphbusiness.dk](mailto:cph-na157@cphbusiness.dk))\n",
    "- Christoffer Kofoed Foldager ([cph-cf161@cphbusiness.dk](mailto:cph-cf161@cphbusiness.dk))\n",
    "- Andreas Maxim Arenfeldt Andersen ([cph-aa344@cphbusiness.dk](mailto:cph-aa344@cphbusiness.dk))"
   ]
  },
  {
   "cell_type": "markdown",
   "metadata": {},
   "source": [
    "## Status\n",
    "I have completed all exercises."
   ]
  },
  {
   "cell_type": "code",
   "execution_count": null,
   "metadata": {},
   "outputs": [],
   "source": []
  }
 ],
 "metadata": {
  "kernelspec": {
   "display_name": "Python 3",
   "language": "python",
   "name": "python3"
  },
  "language_info": {
   "codemirror_mode": {
    "name": "ipython",
    "version": 3
   },
   "file_extension": ".py",
   "mimetype": "text/x-python",
   "name": "python",
   "nbconvert_exporter": "python",
   "pygments_lexer": "ipython3",
   "version": "3.7.6"
  }
 },
 "nbformat": 4,
 "nbformat_minor": 4
}
