{
 "cells": [
  {
   "cell_type": "markdown",
   "metadata": {},
   "source": [
    "# Week 8 handin - by Benjamin S (cph-bs190)"
   ]
  },
  {
   "cell_type": "markdown",
   "metadata": {},
   "source": [
    "# Assignment chosen: \n",
    "\n",
    "## Python_exercise_08\n",
    "\n",
    "\n",
    "### Exercise 1\n",
    "  1) Lav en RESTful  webservice med FLASK som har et GET og POST endpoint.\n",
    "\n",
    "### Exercise 2\n",
    "1) Få fat i data fra \"https://api.chucknorris.io/jokes/random\" med request.get()  \n",
    "2) Filtrer dataen så resultatet er en string med \"value\" og brug POST endpointet til at persistere til DB.\n",
    "\n",
    "### Exercise 3\n",
    "1) Brug GET endpoint til at hente data op fra DB. \n",
    "2) Send et response med et JSON objekt med {text: \"Random Joke\", value: \"resultat fra punkt 1.\"}. \n",
    "\n",
    "\n",
    "\n",
    "#### By Group 1, E:\n",
    "\n",
    "- Benjamin Choleva ([cph-bc105@cphbusiness.dk](mailto:cph-bc105@cphbusiness.dk))\n",
    "- Nicolas Malte Johan Allesøe ([cph-na157@cphbusiness.dk](mailto:cph-na157@cphbusiness.dk))\n",
    "- Christoffer Kofoed Foldager ([cph-cf161@cphbusiness.dk](mailto:cph-cf161@cphbusiness.dk))\n",
    "- Andreas Maxim Arenfeldt Andersen ([cph-aa344@cphbusiness.dk](mailto:cph-aa344@cphbusiness.dk))"
   ]
  },
  {
   "cell_type": "markdown",
   "metadata": {},
   "source": [
    "## Status\n",
    "I have completed all exercises."
   ]
  },
  {
   "source": [
    "# Exercise 1\n",
    "### 1.\n",
    "\n",
    "- My Flask app for this assignment can be found in the 'flask_apps' folder ('week_8_flask_app.py').\n",
    "- Obviously, the cells here cannot be run because the Flask app is not running on MyBinder. \n",
    "- The results you see below are from running it locally with the app running."
   ],
   "cell_type": "markdown",
   "metadata": {}
  },
  {
   "source": [
    "# Exercise 2\n",
    "### 1 - 2"
   ],
   "cell_type": "markdown",
   "metadata": {}
  },
  {
   "cell_type": "code",
   "execution_count": 22,
   "metadata": {},
   "outputs": [
    {
     "output_type": "stream",
     "name": "stdout",
     "text": [
      "Full response object:\n {'categories': ['religion'], 'created_at': '2020-01-05 13:42:19.324003', 'icon_url': 'https://assets.chucknorris.host/img/avatar/chuck-norris.png', 'id': '3kf42nr6qhkll8hucjbhow', 'updated_at': '2020-01-05 13:42:19.324003', 'url': 'https://api.chucknorris.io/jokes/3kf42nr6qhkll8hucjbhow', 'value': 'Chuck Norris has never been accused of murder because his roundhouse kicks are recognized as \"acts of God.\"'}\n\n\nJoke:\n Chuck Norris has never been accused of murder because his roundhouse kicks are recognized as \"acts of God.\"\n\nJoke added to DB with post endpoint:\n {'id': 5, 'text': 'Random Joke', 'value': 'Chuck Norris has never been accused of murder because his roundhouse kicks are recognized as \"acts of God.\"'}\n"
     ]
    }
   ],
   "source": [
    "import requests\n",
    "\n",
    "# 1\n",
    "url = \"https://api.chucknorris.io/jokes/random\"\n",
    "res = requests.get(url)\n",
    "joke = res.json()[\"value\"]\n",
    "\n",
    "print(\"Full response object:\\n\", res.json())\n",
    "print(\"\\n\\nJoke:\\n\", joke)\n",
    "\n",
    "# 2\n",
    "running_app_url = \"http://localhost:5000/chuck/api/joke\"\n",
    "body = {\"text\": \"Random Joke\", \"value\": joke}\n",
    "\n",
    "addedJoke = requests.post(running_app_url, json = body)\n",
    "print(\"\\nJoke added to DB with post endpoint:\\n\", addedJoke.json())"
   ]
  },
  {
   "source": [
    "# Exercise 3\n",
    "### 1 -2"
   ],
   "cell_type": "markdown",
   "metadata": {}
  },
  {
   "cell_type": "code",
   "execution_count": 32,
   "metadata": {},
   "outputs": [
    {
     "output_type": "stream",
     "name": "stdout",
     "text": [
      "{'id': 1, 'text': 'Random Joke', 'value': 'The dinosaurs are extinct because 70 million years ago Chuck Norris farted.'} \n\n{'id': 2, 'text': 'Random Joke', 'value': 'Rambo is actually just a cheap Chinese knock-off of Chuck Norris.'} \n\n{'id': 3, 'text': 'Random Joke', 'value': 'Chuck Norris can have his cake and eat it too.'} \n\n{'id': 4, 'text': 'Random Joke', 'value': 'Cleanliness is next to godliness... and of course, godliness is nowhere near Chuck Norris-ness.'} \n\n{'id': 5, 'text': 'Random Joke', 'value': 'Chuck Norris has never been accused of murder because his roundhouse kicks are recognized as \"acts of God.\"'} \n\n"
     ]
    }
   ],
   "source": [
    "\n",
    "# URL defined in previous cell\n",
    "\n",
    "# 1\n",
    "allJokes = requests.get(running_app_url)\n",
    "\n",
    "# 2\n",
    "for joke in allJokes.json():\n",
    "    print(joke, \"\\n\")\n",
    "\n",
    "\n"
   ]
  }
 ],
 "metadata": {
  "kernelspec": {
   "display_name": "Python 3",
   "language": "python",
   "name": "python3"
  },
  "language_info": {
   "codemirror_mode": {
    "name": "ipython",
    "version": 3
   },
   "file_extension": ".py",
   "mimetype": "text/x-python",
   "name": "python",
   "nbconvert_exporter": "python",
   "pygments_lexer": "ipython3",
   "version": "3.7.6"
  }
 },
 "nbformat": 4,
 "nbformat_minor": 4
}